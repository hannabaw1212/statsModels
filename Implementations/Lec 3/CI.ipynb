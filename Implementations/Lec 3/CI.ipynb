{
 "cells": [
  {
   "metadata": {
    "ExecuteTime": {
     "end_time": "2024-07-19T12:49:26.981474Z",
     "start_time": "2024-07-19T12:49:26.978209Z"
    }
   },
   "cell_type": "code",
   "source": [
    "import numpy as np \n",
    "import pandas as pd\n",
    "import matplotlib.pyplot as plt\n",
    "import seaborn as sns\n",
    "import scipy as sp"
   ],
   "id": "cf2bf7c924c8f579",
   "outputs": [],
   "execution_count": 1
  },
  {
   "metadata": {},
   "cell_type": "markdown",
   "source": "## Bootstrap CI\n",
   "id": "6d5af482eb26163e"
  },
  {
   "cell_type": "code",
   "id": "initial_id",
   "metadata": {
    "collapsed": true,
    "ExecuteTime": {
     "end_time": "2024-07-19T12:54:32.079096Z",
     "start_time": "2024-07-19T12:54:31.871721Z"
    }
   },
   "source": [
    "data_sample = np.random.normal(5, 2, 1000)\n",
    "bootstrap_results = []\n",
    "\n",
    "for expirement in range(5000):\n",
    "    bootstrap = np.random.choice(data_sample, size=1000, replace=True)\n",
    "    statistic_value = np.mean(bootstrap)\n",
    "    bootstrap_results.append(statistic_value)\n",
    "    \n",
    "bootstrap_results = np.array(bootstrap_results)\n",
    "sns.histplot(bootstrap_results,  kde=True)\n",
    "print(f\"The 95% CI is: [{np.percentile(bootstrap_results, [2.5, 97.5])}]\")"
   ],
   "outputs": [
    {
     "name": "stdout",
     "output_type": "stream",
     "text": [
      "The 95% CI is: [[4.85850539 5.11100989]]\n"
     ]
    },
    {
     "data": {
      "text/plain": [
       "<Figure size 640x480 with 1 Axes>"
      ],
      "image/png": "[encoded data removed]"
     },
     "metadata": {},
     "output_type": "display_data"
    }
   ],
   "execution_count": 9
  },
  {
   "metadata": {},
   "cell_type": "markdown",
   "source": "## basic bootstrap",
   "id": "eefce8437961238a"
  },
  {
   "metadata": {
    "ExecuteTime": {
     "end_time": "2024-07-19T13:05:16.766180Z",
     "start_time": "2024-07-19T13:05:16.672681Z"
    }
   },
   "cell_type": "code",
   "source": [
    "data_sample = np.random.normal(5, 2, 1000)\n",
    "bootstrap_results = []\n",
    "alpha = 0.05\n",
    "\n",
    "for expirement in range(5000):\n",
    "    bootstrap = np.random.choice(data_sample, size=1000, replace=True)\n",
    "    statistic_value = np.mean(bootstrap)\n",
    "    bootstrap_results.append(statistic_value)\n",
    "    \n",
    "observed_stat = np.mean(bootstrap_results)\n",
    "\n",
    "L = 2 * observed_stat - np.percentile(bootstrap_results, 100 * (1 - alpha/2))\n",
    "U = 2 * observed_stat - np.percentile(bootstrap_results, 100 * (alpha/2))\n",
    "\n",
    "print(f\"95% Confidence Interval: ({L}, {U})\")\n"
   ],
   "id": "5d11f6d73eecba96",
   "outputs": [
    {
     "name": "stdout",
     "output_type": "stream",
     "text": [
      "95% Confidence Interval: (4.932824469563672, 5.184631125562125)\n"
     ]
    }
   ],
   "execution_count": 11
  },
  {
   "metadata": {},
   "cell_type": "markdown",
   "source": "## Bias Corrected and Accelerated (BCA) Bootstrap",
   "id": "7c556a3c08a3c98e"
  },
  {
   "metadata": {
    "ExecuteTime": {
     "end_time": "2024-07-19T14:11:38.716285Z",
     "start_time": "2024-07-19T14:11:38.631232Z"
    }
   },
   "cell_type": "code",
   "source": [
    "data_sample = np.random.normal(5, 2, 1000)\n",
    "alpha = 0.05\n",
    "\n",
    "def BCA(alpha, data_sample):\n",
    "    bootstrap_results = []\n",
    "    orginal_sample_mean = np.mean(data_sample)\n",
    "    for expirement in range(5000):\n",
    "        bootstrap = np.random.choice(data_sample, size=1000, replace=True)\n",
    "        statistic_value = np.mean(bootstrap)\n",
    "        bootstrap_results.append(statistic_value)\n",
    "    \n",
    "    bootstrap_results = np.array(bootstrap_results)\n",
    "    z_0 = bias_estimation(orginal_sample_mean, bootstrap_results)\n",
    "    _, alpha_hat = jackknife(data_sample)\n",
    "    z_alpha = sp.stats.norm.ppf(alpha)\n",
    "    z_one_minus_alpha = sp.stats.norm.ppf(1 - alpha/2)\n",
    "    \n",
    "    alpha_L = sp.stats.norm.cdf(z_0 + ((z_0 + z_alpha) / (1 - alpha_hat * (z_0+z_alpha))))\n",
    "    alpha_U = sp.stats.norm.cdf(z_0 + ((z_0 + z_one_minus_alpha) / (1 - alpha_hat * (z_0+z_one_minus_alpha))))\n",
    "    \n",
    "    CI_upper = np.percentile(bootstrap_results, alpha_U)\n",
    "    CI_lower = np.percentile(bootstrap_results, alpha_L)\n",
    "    print(f\"[{CI_lower, CI_upper}]\")\n",
    "    \n",
    "def bias_estimation(orginal_sample_mean, bootstrap_results):\n",
    "    B = len(bootstrap_results)\n",
    "    results_smaller_than_orgtheta = len(bootstrap_results[np.where(bootstrap_results < orginal_sample_mean)])\n",
    "    p_0 = results_smaller_than_orgtheta / B\n",
    "    z_0 = sp.stats.norm.ppf(p_0) if p_0 > 0 else -np.inf # bias correction\n",
    "    return z_0\n",
    "    \n",
    "    \n",
    "def jackknife(data_sample):\n",
    "    n = len(data_sample)\n",
    "    jackknife_means = []\n",
    "    theta_hat = np.mean(data_sample)\n",
    "    \n",
    "    for i in range(n):\n",
    "        statistic_without_i = np.mean(np.delete(data_sample, i, axis=0))\n",
    "        jackknife_means.append(statistic_without_i)\n",
    "    \n",
    "    jack_variance = (n - 1) * np.mean((jackknife_means - theta_hat) ** 2)\n",
    "    # The acceleration is estimated by the skewness of the jackknife estimates\n",
    "    se_jack = sp.stats.skew(jackknife_means)\n",
    "    return jack_variance, se_jack\n",
    "\n",
    "\n",
    "\n",
    "print(BCA(alpha, data_sample))\n",
    "print(np.mean(data_sample))"
   ],
   "id": "4ff3f0d18eb40635",
   "outputs": [
    {
     "name": "stdout",
     "output_type": "stream",
     "text": [
      "[(4.748145300264613, 4.837249820900628)]\n",
      "None\n",
      "4.980543156566467\n"
     ]
    }
   ],
   "execution_count": 68
  },
  {
   "metadata": {},
   "cell_type": "code",
   "outputs": [],
   "execution_count": null,
   "source": "",
   "id": "3a179d005a3c002b"
  },
  {
   "metadata": {},
   "cell_type": "code",
   "outputs": [],
   "execution_count": null,
   "source": "",
   "id": "af5d3a6ecc707534"
  }
 ],
 "metadata": {
  "kernelspec": {
   "display_name": "Python 3",
   "language": "python",
   "name": "python3"
  },
  "language_info": {
   "codemirror_mode": {
    "name": "ipython",
    "version": 2
   },
   "file_extension": ".py",
   "mimetype": "text/x-python",
   "name": "python",
   "nbconvert_exporter": "python",
   "pygments_lexer": "ipython2",
   "version": "2.7.6"
  }
 },
 "nbformat": 4,
 "nbformat_minor": 5
}
